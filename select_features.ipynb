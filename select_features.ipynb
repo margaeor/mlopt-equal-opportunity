{
 "cells": [
  {
   "cell_type": "markdown",
   "id": "ffff173a",
   "metadata": {},
   "source": [
    "#### Version: Jupyter kernel 1.6.3\n"
   ]
  },
  {
   "cell_type": "markdown",
   "id": "c012f58f",
   "metadata": {},
   "source": [
    "#### Dependencies: IAI, Statistics, Random, DataFrames, CSV, JuMP, Gurobi, GLMNet, Plots,  LinearAlgebra, LaTeXStrings, CategoricalArrays\n",
    "Here, adventurer, take this: \n",
    "\n",
    "```julia\n",
    "using Pkg; \n",
    "Pkg.add[\"Statistics\", \"Random\", \"DataFrames\", \"CSV\", \"JuMP\", \"Gurobi\", \"GLMNet\", \"Plots\",  \"LinearAlgebra\", \"LaTeXStrings\", \"CategoricalArrays\"]\n",
    "```\n"
   ]
  },
  {
   "cell_type": "markdown",
   "id": "13f607c9",
   "metadata": {},
   "source": [
    "Check for IAI"
   ]
  },
  {
   "cell_type": "code",
<<<<<<< HEAD
   "execution_count": 2,
=======
   "execution_count": 1,
>>>>>>> abd72aed05bf474e0b6377a1270ce09253bfae77
   "id": "2e168a16",
   "metadata": {},
   "outputs": [
    {
<<<<<<< HEAD
     "data": {
      "text/plain": [
       "IAI"
      ]
     },
     "metadata": {},
     "output_type": "display_data"
=======
     "ename": "LoadError",
     "evalue": "MethodError: no method matching getindex(::typeof(Pkg.API.add), ::String, ::String, ::String, ::String, ::String, ::String, ::String, ::String, ::String, ::String, ::String)",
     "output_type": "error",
     "traceback": [
      "MethodError: no method matching getindex(::typeof(Pkg.API.add), ::String, ::String, ::String, ::String, ::String, ::String, ::String, ::String, ::String, ::String, ::String)",
      "",
      "Stacktrace:",
      " [1] top-level scope",
      "   @ In[1]:2",
      " [2] eval",
      "   @ .\\boot.jl:360 [inlined]",
      " [3] include_string(mapexpr::typeof(REPL.softscope), mod::Module, code::String, filename::String)",
      "   @ Base .\\loading.jl:1116"
     ]
>>>>>>> abd72aed05bf474e0b6377a1270ce09253bfae77
    }
   ],
   "source": [
    "IAI"
   ]
  },
  {
   "cell_type": "markdown",
   "id": "c7a37523",
   "metadata": {},
   "source": [
    "Load Packages"
   ]
  },
  {
   "cell_type": "code",
   "execution_count": 3,
   "id": "fd04f2e3",
   "metadata": {},
   "outputs": [
    {
     "ename": "LoadError",
     "evalue": "ArgumentError: Package LaTeXStrings not found in current path:\n- Run `import Pkg; Pkg.add(\"LaTeXStrings\")` to install the LaTeXStrings package.\n",
     "output_type": "error",
     "traceback": [
      "ArgumentError: Package LaTeXStrings not found in current path:\n- Run `import Pkg; Pkg.add(\"LaTeXStrings\")` to install the LaTeXStrings package.\n",
      "",
      "Stacktrace:",
      " [1] require(into::Module, mod::Symbol)",
      "   @ Base .\\loading.jl:893",
      " [2] eval",
      "   @ .\\boot.jl:360 [inlined]",
      " [3] include_string(mapexpr::typeof(REPL.softscope), mod::Module, code::String, filename::String)",
      "   @ Base .\\loading.jl:1116"
     ]
    }
   ],
   "source": [
    "using Statistics, Random, DataFrames, CSV, JuMP, Gurobi, GLMNet, Plots,  LinearAlgebra, LaTeXStrings, CategoricalArrays"
   ]
  },
  {
   "cell_type": "markdown",
   "id": "b0157bfa",
   "metadata": {},
   "source": [
    "### Load Data"
   ]
  },
  {
   "cell_type": "code",
   "execution_count": 14,
   "id": "598bf18b",
   "metadata": {},
   "outputs": [
    {
     "data": {
      "text/plain": [
       "1998-element Vector{Float64}:\n",
       "  9000.0\n",
       "   150.0\n",
       "  1400.0\n",
       " 22700.0\n",
       "     0.0\n",
       "     0.0\n",
       " 36000.0\n",
       "  9300.0\n",
       " 60000.0\n",
       "     0.0\n",
       "     ⋮\n",
       "  4500.0\n",
       "     0.0\n",
       "     0.0\n",
       "  8000.0\n",
       "  5000.0\n",
       "     0.0\n",
       "     0.0\n",
       " 25000.0\n",
       "     0.0"
      ]
     },
     "metadata": {},
     "output_type": "display_data"
    }
   ],
   "source": [
    "# LOAD X\n",
    "seed = 1;\n",
    "filepath = \"data\\\\output\\\\out.csv\"\n",
    "df     = DataFrame(CSV.File(filepath; header=1,  pool=true))\n",
    "\n",
    "# LOAD Y\n",
    "X =  df[:, Not(\"income_total\")]\n",
    "X = coalesce.(X,0)\n",
    "X = Matrix(X)\n",
    "\n",
    "y = df.income_total;\n",
    "y = convert(Array{Float64}, coalesce.(y,0));\n",
    "\n",
    "# (train_X, train_y), (test_X, test_y) = IAI.split_data(X, y, seed = seed)\n",
    "b\n"
   ]
  },
  {
   "cell_type": "code",
   "execution_count": null,
   "id": "f313b405",
   "metadata": {},
   "outputs": [],
   "source": [
    "Matrix{Float32}(DataFrame(CSV.File(\"votes_X_train.csv\", header=1)))"
   ]
  },
  {
   "cell_type": "markdown",
   "id": "f83ee9c8",
   "metadata": {},
   "source": [
    "### Helper functions"
   ]
  }
 ],
 "metadata": {
  "kernelspec": {
   "display_name": "Julia 1.6.2",
   "language": "julia",
   "name": "julia-1.6"
  },
  "language_info": {
   "file_extension": ".jl",
   "mimetype": "application/julia",
   "name": "julia",
   "version": "1.6.3"
  }
 },
 "nbformat": 4,
 "nbformat_minor": 5
}
