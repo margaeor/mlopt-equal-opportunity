{
 "cells": [
  {
   "cell_type": "markdown",
   "id": "787884ee",
   "metadata": {},
   "source": [
    "#### Version: Jupyter kernel 1.6.3\n",
    "#### Dependencies: IAI"
   ]
  },
  {
   "cell_type": "code",
   "execution_count": 3,
   "id": "1d3361bb",
   "metadata": {},
   "outputs": [
    {
     "data": {
      "text/plain": [
       "IAI"
      ]
     },
     "execution_count": 3,
     "metadata": {},
     "output_type": "execute_result"
    }
   ],
   "source": [
    "IAI"
   ]
  },
  {
   "cell_type": "code",
   "execution_count": 4,
   "id": "1323ab99",
   "metadata": {},
   "outputs": [],
   "source": [
    "using Statistics, Random, DataFrames, CSV, JuMP, Gurobi, GLMNet, Plots,  LinearAlgebra, LaTeXStrings, CategoricalArrays"
   ]
  },
  {
   "cell_type": "code",
   "execution_count": null,
   "id": "f82db4f9",
   "metadata": {},
   "outputs": [],
   "source": []
  },
  {
   "cell_type": "markdown",
   "id": "9b8c89c0",
   "metadata": {},
   "source": [
    "### Helper functions"
   ]
  },
  {
   "cell_type": "code",
   "execution_count": 5,
   "id": "8d9564fb",
   "metadata": {},
   "outputs": [
    {
     "data": {
      "text/plain": [
       "df2matrix (generic function with 1 method)"
      ]
     },
     "execution_count": 5,
     "metadata": {},
     "output_type": "execute_result"
    }
   ],
   "source": [
    "function df2matrix(df)\n",
    "    n = size(df,1)\n",
    "    m = size(df,2)\n",
    "    \n",
    "    matrix_conv = zeros(n, m)\n",
    "    for i = 1:n\n",
    "        for j = 1:m\n",
    "            matrix_conv[i,j] = df[i,j]\n",
    "        end\n",
    "    end\n",
    "    return matrix_conv\n",
    "end"
   ]
  }
 ],
 "metadata": {
  "kernelspec": {
   "display_name": "Julia 1.6.3",
   "language": "julia",
   "name": "julia-1.6"
  },
  "language_info": {
   "file_extension": ".jl",
   "mimetype": "application/julia",
   "name": "julia",
   "version": "1.6.2"
  }
 },
 "nbformat": 4,
 "nbformat_minor": 5
}
