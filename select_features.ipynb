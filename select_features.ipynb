{
 "cells": [
  {
   "cell_type": "markdown",
   "id": "7ee9bffa",
   "metadata": {},
   "source": [
    "#### Version: Jupyter kernel 1.6.3\n"
   ]
  },
  {
   "cell_type": "markdown",
   "id": "40e6caec",
   "metadata": {},
   "source": [
    "#### Dependencies: IAI, Statistics, Random, DataFrames, CSV, JuMP, Gurobi, GLMNet, Plots,  LinearAlgebra, LaTeXStrings, CategoricalArrays\n",
    "Here, adventurer, take this: \n",
    "\n",
    "`\n",
    "using Pkg; \n",
    "Pkg.add[\"Statistics\", \"Random\", \"DataFrames\", \"CSV\", \"JuMP\", \"Gurobi\", \"GLMNet\", \"Plots\",  \"LinearAlgebra\", \"LaTeXStrings\", \"CategoricalArrays\"]\n",
    "`"
   ]
  },
  {
   "cell_type": "code",
   "execution_count": 3,
   "id": "c1bc3861",
   "metadata": {},
   "outputs": [
    {
     "data": {
      "text/plain": [
       "IAI"
      ]
     },
     "execution_count": 3,
     "metadata": {},
     "output_type": "execute_result"
    }
   ],
   "source": [
    "IAI"
   ]
  },
  {
   "cell_type": "code",
   "execution_count": 4,
   "id": "697a651c",
   "metadata": {},
   "outputs": [],
   "source": [
    "using Statistics, Random, DataFrames, CSV, JuMP, Gurobi, GLMNet, Plots,  LinearAlgebra, LaTeXStrings, CategoricalArrays"
   ]
  },
  {
   "cell_type": "code",
   "execution_count": null,
   "id": "af8885ba",
   "metadata": {},
   "outputs": [],
   "source": []
  },
  {
   "cell_type": "markdown",
   "id": "f20ff2b3",
   "metadata": {},
   "source": [
    "### Helper functions"
   ]
  },
  {
   "cell_type": "code",
   "execution_count": 5,
   "id": "b1c01b9d",
   "metadata": {},
   "outputs": [
    {
     "data": {
      "text/plain": [
       "df2matrix (generic function with 1 method)"
      ]
     },
     "execution_count": 5,
     "metadata": {},
     "output_type": "execute_result"
    }
   ],
   "source": [
    "function df2matrix(df)\n",
    "    n = size(df,1)\n",
    "    m = size(df,2)\n",
    "    \n",
    "    matrix_conv = zeros(n, m)\n",
    "    for i = 1:n\n",
    "        for j = 1:m\n",
    "            matrix_conv[i,j] = df[i,j]\n",
    "        end\n",
    "    end\n",
    "    return matrix_conv\n",
    "end"
   ]
  }
 ],
 "metadata": {
  "kernelspec": {
   "display_name": "Julia 1.6.3",
   "language": "julia",
   "name": "julia-1.6"
  },
  "language_info": {
   "file_extension": ".jl",
   "mimetype": "application/julia",
   "name": "julia",
   "version": "1.6.2"
  }
 },
 "nbformat": 4,
 "nbformat_minor": 5
}
