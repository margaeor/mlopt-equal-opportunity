{
 "cells": [
  {
   "cell_type": "markdown",
   "id": "ffff173a",
   "metadata": {},
   "source": [
    "#### Version: Jupyter kernel 1.6.3\n"
   ]
  },
  {
   "cell_type": "markdown",
   "id": "c012f58f",
   "metadata": {},
   "source": [
    "#### Dependencies: IAI, Statistics, Random, DataFrames, CSV, JuMP, Gurobi, GLMNet, Plots,  LinearAlgebra, LaTeXStrings, CategoricalArrays\n",
    "Here, adventurer, take this: \n",
    "\n",
    "```julia\n",
    "using Pkg; \n",
    "Pkg.add[\"Statistics\", \"Random\", \"DataFrames\", \"CSV\", \"JuMP\", \"Gurobi\", \"GLMNet\", \"Plots\",  \"LinearAlgebra\", \"LaTeXStrings\", \"CategoricalArrays\"]\n",
    "```\n"
   ]
  },
  {
   "cell_type": "markdown",
   "id": "13f607c9",
   "metadata": {},
   "source": [
    "Check for IAI"
   ]
  },
  {
   "cell_type": "code",
   "execution_count": 3,
   "id": "2e168a16",
   "metadata": {},
   "outputs": [
    {
     "data": {
      "text/plain": [
       "IAI"
      ]
     },
     "execution_count": 3,
     "metadata": {},
     "output_type": "execute_result"
    }
   ],
   "source": [
    "IAI"
   ]
  },
  {
   "cell_type": "markdown",
   "id": "c7a37523",
   "metadata": {},
   "source": [
    "Load Packages"
   ]
  },
  {
   "cell_type": "code",
   "execution_count": 4,
   "id": "fd04f2e3",
   "metadata": {},
   "outputs": [],
   "source": [
    "using Statistics, Random, DataFrames, CSV, JuMP, Gurobi, GLMNet, Plots,  LinearAlgebra, LaTeXStrings, CategoricalArrays"
   ]
  },
  {
   "cell_type": "markdown",
   "id": "b0157bfa",
   "metadata": {},
   "source": [
    "### Load Data"
   ]
  },
  {
   "cell_type": "code",
   "execution_count": 45,
   "id": "598bf18b",
   "metadata": {},
   "outputs": [],
   "source": [
    "# LOAD X\n",
    "seed = 1;\n",
    "filepath = \"data\\\\output\\\\out.csv\"\n",
    "df     = DataFrame(CSV.File(filepath; header=1,  pool=true))\n",
    "\n",
    "# LOAD Y\n",
    "X =  df[:, Not(\"income_total\")]\n",
    "X = coalesce.(X,0)\n",
    "\n",
    "y = df.income_total\n",
    "y = convert(Array{Float64}, coalesce.(y,0));\n",
    "\n",
    "# (train_X, train_y), (test_X, test_y) = IAI.split_data(X, y, seed = seed)\n",
    "\n"
   ]
  },
  {
   "cell_type": "markdown",
   "id": "f83ee9c8",
   "metadata": {},
   "source": [
    "### Helper functions"
   ]
  },
  {
   "cell_type": "code",
   "execution_count": 34,
   "id": "bccd3bf7",
   "metadata": {},
   "outputs": [
    {
     "data": {
      "text/plain": [
       "df2matrix (generic function with 1 method)"
      ]
     },
     "execution_count": 34,
     "metadata": {},
     "output_type": "execute_result"
    }
   ],
   "source": [
    "function df2matrix(df)\n",
    "    n = size(df,1)\n",
    "    m = size(df,2)\n",
    "    \n",
    "    matrix_conv = zeros(n, m)\n",
    "    for i = 1:n\n",
    "        for j = 1:m\n",
    "            matrix_conv[i,j] = df[i,j]\n",
    "        end\n",
    "    end\n",
    "    return matrix_conv\n",
    "end"
   ]
  }
 ],
 "metadata": {
  "kernelspec": {
   "display_name": "Julia 1.6.3",
   "language": "julia",
   "name": "julia-1.6"
  },
  "language_info": {
   "file_extension": ".jl",
   "mimetype": "application/julia",
   "name": "julia",
   "version": "1.6.2"
  }
 },
 "nbformat": 4,
 "nbformat_minor": 5
}
